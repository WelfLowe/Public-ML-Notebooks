{
 "cells": [
  {
   "cell_type": "markdown",
   "metadata": {},
   "source": [
    "# Learn XOR using a Neural Network"
   ]
  },
  {
   "cell_type": "markdown",
   "metadata": {},
   "source": [
    "For demonstration purposes, we learn neural network models of increasing complexity implementing the XOR function. Eventually, we will arrive at the model suggested in this [tutorial](https://blog.thoughtram.io/machine-learning/2016/11/02/understanding-XOR-with-keras-and-tensorlow.html)."
   ]
  },
  {
   "cell_type": "markdown",
   "metadata": {},
   "source": [
    "## Imports"
   ]
  },
  {
   "cell_type": "code",
   "execution_count": 1,
   "metadata": {},
   "outputs": [],
   "source": [
    "#!pip install numpy \n",
    "#!pip install tensorflow \n",
    "#!pip install sklearn "
   ]
  },
  {
   "cell_type": "code",
   "execution_count": 2,
   "metadata": {},
   "outputs": [],
   "source": [
    "import numpy as np\n",
    "from tensorflow.keras import Sequential\n",
    "from tensorflow.keras.layers import Dense\n",
    "from sklearn.metrics import mean_squared_error, accuracy_score\n",
    "\n",
    "import matplotlib.pyplot as plt"
   ]
  },
  {
   "cell_type": "markdown",
   "metadata": {},
   "source": [
    "## Create the XOR function as data"
   ]
  },
  {
   "cell_type": "code",
   "execution_count": 3,
   "metadata": {},
   "outputs": [
    {
     "name": "stdout",
     "output_type": "stream",
     "text": [
      "Input: (4, 2)\n",
      "Output: (4, 1)\n"
     ]
    }
   ],
   "source": [
    "# Create XOR\n",
    "X = np.array([[0,0],[0,1],[1,0],[1,1]], \"float32\")\n",
    "Y = np.array([[0],[1],[1],[0]], \"float32\")\n",
    "\n",
    "# Dataset shape\n",
    "print(\"Input: {0}\".format(X.shape))\n",
    "print(\"Output: {0}\".format(Y.shape))"
   ]
  },
  {
   "cell_type": "markdown",
   "metadata": {},
   "source": [
    "## Model 1"
   ]
  },
  {
   "cell_type": "markdown",
   "metadata": {},
   "source": [
    "Define and train a too trivial neural network model: one neuron, three parameters, purely linear and, hence, it misses 50% of the right answers."
   ]
  },
  {
   "cell_type": "code",
   "execution_count": 4,
   "metadata": {
    "scrolled": true
   },
   "outputs": [
    {
     "name": "stdout",
     "output_type": "stream",
     "text": [
      "Model: \"sequential\"\n",
      "_________________________________________________________________\n",
      "Layer (type)                 Output Shape              Param #   \n",
      "=================================================================\n",
      "dense (Dense)                (None, 1)                 3         \n",
      "=================================================================\n",
      "Total params: 3\n",
      "Trainable params: 3\n",
      "Non-trainable params: 0\n",
      "_________________________________________________________________\n",
      "None\n"
     ]
    },
    {
     "name": "stderr",
     "output_type": "stream",
     "text": [
      "2024-04-22 17:58:06.362766: I tensorflow/core/platform/cpu_feature_guard.cc:142] This TensorFlow binary is optimized with oneAPI Deep Neural Network Library (oneDNN) to use the following CPU instructions in performance-critical operations:  AVX2 FMA\n",
      "To enable them in other operations, rebuild TensorFlow with the appropriate compiler flags.\n"
     ]
    }
   ],
   "source": [
    "# Define the model\n",
    "model1 = Sequential()\n",
    "model1.add(Dense(1, input_dim=2, activation='linear'))\n",
    "\n",
    "# Compile the model\n",
    "model1.compile(loss='mean_squared_error',\n",
    "              optimizer='adam',\n",
    "              metrics=['binary_accuracy','mean_squared_error'])\n",
    "\n",
    "print(model1.summary())"
   ]
  },
  {
   "cell_type": "code",
   "execution_count": 5,
   "metadata": {},
   "outputs": [
    {
     "name": "stderr",
     "output_type": "stream",
     "text": [
      "2024-04-22 17:58:31.972452: I tensorflow/compiler/mlir/mlir_graph_optimization_pass.cc:185] None of the MLIR Optimization Passes are enabled (registered 2)\n"
     ]
    },
    {
     "data": {
      "text/plain": [
       "[]"
      ]
     },
     "execution_count": 5,
     "metadata": {},
     "output_type": "execute_result"
    },
    {
     "data": {
      "image/png": "[encoded data removed]",
      "text/plain": [
       "<Figure size 640x480 with 1 Axes>"
      ]
     },
     "metadata": {},
     "output_type": "display_data"
    }
   ],
   "source": [
    "# Train the model\n",
    "history = model1.fit(X, Y, epochs=1000, verbose=0)\n",
    "\n",
    "plt.plot(history.history['mean_squared_error'])\n",
    "plt.plot(history.history['binary_accuracy'])\n",
    "plt.ylabel('mean squared error / binary accuracy')\n",
    "plt.xlabel('epoch')\n",
    "plt.plot()"
   ]
  },
  {
   "cell_type": "markdown",
   "metadata": {},
   "source": [
    "Evaluate the model:"
   ]
  },
  {
   "cell_type": "code",
   "execution_count": 6,
   "metadata": {},
   "outputs": [
    {
     "name": "stdout",
     "output_type": "stream",
     "text": [
      "Mean squared error: 0.37\n",
      "Binary accuracy: 0.50\n"
     ]
    }
   ],
   "source": [
    "preds = model1.predict(X)\n",
    "mse = mean_squared_error(preds, Y)\n",
    "print(\"Mean squared error: {0:.2f}\".format(mse))\n",
    "acc = accuracy_score(preds.round(), Y)\n",
    "print(\"Binary accuracy: {0:.2f}\".format(acc))"
   ]
  },
  {
   "cell_type": "code",
   "execution_count": 7,
   "metadata": {},
   "outputs": [
    {
     "data": {
      "text/plain": [
       "array([[0.61704695],\n",
       "       [0.71605337],\n",
       "       [0.00191498],\n",
       "       [0.10092139]], dtype=float32)"
      ]
     },
     "execution_count": 7,
     "metadata": {},
     "output_type": "execute_result"
    }
   ],
   "source": [
    "preds"
   ]
  },
  {
   "cell_type": "markdown",
   "metadata": {},
   "source": [
    "Use the model"
   ]
  },
  {
   "cell_type": "code",
   "execution_count": 8,
   "metadata": {},
   "outputs": [],
   "source": [
    "def my_xor(x1,x2,m):\n",
    "    \"\"\"Return x1 XOR x2.\"\"\"\n",
    "    res =  m.predict(np.array([[x1,x2]], \"float32\")).round()\n",
    "    return int(res[0][0])"
   ]
  },
  {
   "cell_type": "code",
   "execution_count": 9,
   "metadata": {},
   "outputs": [
    {
     "name": "stdout",
     "output_type": "stream",
     "text": [
      "1\n",
      "1\n",
      "0\n",
      "0\n"
     ]
    }
   ],
   "source": [
    "print(format(my_xor(0,0, model1)))\n",
    "print(format(my_xor(0,1, model1)))\n",
    "print(format(my_xor(1,0, model1)))\n",
    "print(format(my_xor(1,1, model1)))"
   ]
  },
  {
   "cell_type": "markdown",
   "metadata": {},
   "source": [
    "## Model 2"
   ]
  },
  {
   "cell_type": "markdown",
   "metadata": {},
   "source": [
    "The slightly more complex neural network model introduces a sigmpod activation function. It is hence not linear anymore. However, one neuron is not enough. Its accuracy does not improve."
   ]
  },
  {
   "cell_type": "code",
   "execution_count": 10,
   "metadata": {
    "scrolled": true
   },
   "outputs": [
    {
     "name": "stdout",
     "output_type": "stream",
     "text": [
      "Model: \"sequential_1\"\n",
      "_________________________________________________________________\n",
      "Layer (type)                 Output Shape              Param #   \n",
      "=================================================================\n",
      "dense_1 (Dense)              (None, 1)                 3         \n",
      "=================================================================\n",
      "Total params: 3\n",
      "Trainable params: 3\n",
      "Non-trainable params: 0\n",
      "_________________________________________________________________\n",
      "None\n"
     ]
    }
   ],
   "source": [
    "# Define the model\n",
    "model2 = Sequential()\n",
    "model2.add(Dense(1, input_dim=2, activation='sigmoid'))\n",
    "\n",
    "# Compile the model\n",
    "model2.compile(loss='mean_squared_error',\n",
    "              optimizer='adam',\n",
    "              metrics=['binary_accuracy','mean_squared_error'])\n",
    "\n",
    "print(model2.summary())"
   ]
  },
  {
   "cell_type": "code",
   "execution_count": 11,
   "metadata": {},
   "outputs": [
    {
     "data": {
      "text/plain": [
       "[]"
      ]
     },
     "execution_count": 11,
     "metadata": {},
     "output_type": "execute_result"
    },
    {
     "data": {
      "image/png": "[encoded data removed]",
      "text/plain": [
       "<Figure size 640x480 with 1 Axes>"
      ]
     },
     "metadata": {},
     "output_type": "display_data"
    }
   ],
   "source": [
    "# Train the model\n",
    "history = model2.fit(X, Y, epochs=1000, verbose=0)\n",
    "\n",
    "plt.plot(history.history['mean_squared_error'])\n",
    "plt.plot(history.history['binary_accuracy'])\n",
    "plt.ylabel('mean squared error / binary accuracy')\n",
    "plt.xlabel('epoch')\n",
    "plt.plot()"
   ]
  },
  {
   "cell_type": "markdown",
   "metadata": {},
   "source": [
    "Evaluate the model:"
   ]
  },
  {
   "cell_type": "code",
   "execution_count": 12,
   "metadata": {},
   "outputs": [
    {
     "name": "stdout",
     "output_type": "stream",
     "text": [
      "Mean squared error: 0.26\n",
      "Binary accuracy: 0.75\n"
     ]
    }
   ],
   "source": [
    "preds = model2.predict(X)\n",
    "mse = mean_squared_error(preds, Y)\n",
    "print(\"Mean squared error: {0:.2f}\".format(mse))\n",
    "acc = accuracy_score(preds.round(), Y)\n",
    "print(\"Binary accuracy: {0:.2f}\".format(acc))"
   ]
  },
  {
   "cell_type": "code",
   "execution_count": 13,
   "metadata": {},
   "outputs": [
    {
     "data": {
      "text/plain": [
       "array([[0.66249526],\n",
       "       [0.5304991 ],\n",
       "       [0.5162148 ],\n",
       "       [0.38050535]], dtype=float32)"
      ]
     },
     "execution_count": 13,
     "metadata": {},
     "output_type": "execute_result"
    }
   ],
   "source": [
    "preds"
   ]
  },
  {
   "cell_type": "markdown",
   "metadata": {},
   "source": [
    "Use the model"
   ]
  },
  {
   "cell_type": "code",
   "execution_count": 14,
   "metadata": {},
   "outputs": [
    {
     "name": "stdout",
     "output_type": "stream",
     "text": [
      "1\n",
      "1\n",
      "1\n",
      "0\n"
     ]
    }
   ],
   "source": [
    "print(format(my_xor(0,0, model2)))\n",
    "print(format(my_xor(0,1, model2)))\n",
    "print(format(my_xor(1,0, model2)))\n",
    "print(format(my_xor(1,1, model2)))"
   ]
  },
  {
   "cell_type": "markdown",
   "metadata": {},
   "source": [
    "## Model 3"
   ]
  },
  {
   "cell_type": "markdown",
   "metadata": {},
   "source": [
    "We add a hidden layer with 32 neurons and a linear activation function:"
   ]
  },
  {
   "cell_type": "code",
   "execution_count": 15,
   "metadata": {
    "scrolled": true
   },
   "outputs": [
    {
     "name": "stdout",
     "output_type": "stream",
     "text": [
      "Model: \"sequential_2\"\n",
      "_________________________________________________________________\n",
      "Layer (type)                 Output Shape              Param #   \n",
      "=================================================================\n",
      "dense_2 (Dense)              (None, 32)                96        \n",
      "_________________________________________________________________\n",
      "dense_3 (Dense)              (None, 1)                 33        \n",
      "=================================================================\n",
      "Total params: 129\n",
      "Trainable params: 129\n",
      "Non-trainable params: 0\n",
      "_________________________________________________________________\n",
      "None\n"
     ]
    }
   ],
   "source": [
    "# Define the model\n",
    "model3 = Sequential()\n",
    "model3.add(Dense(32, input_dim=2, activation='linear'))\n",
    "model3.add(Dense(1, activation='sigmoid'))\n",
    "\n",
    "# Compile the model\n",
    "model3.compile(loss='mean_squared_error',\n",
    "              optimizer='adam',\n",
    "              metrics=['binary_accuracy','mean_squared_error'])\n",
    "\n",
    "print(model3.summary())"
   ]
  },
  {
   "cell_type": "code",
   "execution_count": 16,
   "metadata": {},
   "outputs": [
    {
     "data": {
      "text/plain": [
       "[]"
      ]
     },
     "execution_count": 16,
     "metadata": {},
     "output_type": "execute_result"
    },
    {
     "data": {
      "image/png": "[encoded data removed]",
      "text/plain": [
       "<Figure size 640x480 with 1 Axes>"
      ]
     },
     "metadata": {},
     "output_type": "display_data"
    }
   ],
   "source": [
    "# Train the model\n",
    "history = model3.fit(X, Y, epochs=1000, verbose=0)\n",
    "\n",
    "plt.plot(history.history['mean_squared_error'])\n",
    "plt.plot(history.history['binary_accuracy'])\n",
    "plt.ylabel('mean squared error / binary accuracy')\n",
    "plt.xlabel('epoch')\n",
    "plt.plot()"
   ]
  },
  {
   "cell_type": "markdown",
   "metadata": {},
   "source": [
    "Evaluate the model:"
   ]
  },
  {
   "cell_type": "code",
   "execution_count": 17,
   "metadata": {},
   "outputs": [
    {
     "name": "stdout",
     "output_type": "stream",
     "text": [
      "Mean squared error: 0.25\n",
      "Binary accuracy: 0.50\n"
     ]
    }
   ],
   "source": [
    "preds = model3.predict(X)\n",
    "mse = mean_squared_error(preds, Y)\n",
    "print(\"Mean squared error: {0:.2f}\".format(mse))\n",
    "acc = accuracy_score(preds.round(), Y)\n",
    "print(\"Binary accuracy: {0:.2f}\".format(acc))"
   ]
  },
  {
   "cell_type": "code",
   "execution_count": 18,
   "metadata": {},
   "outputs": [
    {
     "data": {
      "text/plain": [
       "array([[0.5       ],\n",
       "       [0.5       ],\n",
       "       [0.5       ],\n",
       "       [0.49999997]], dtype=float32)"
      ]
     },
     "execution_count": 18,
     "metadata": {},
     "output_type": "execute_result"
    }
   ],
   "source": [
    "preds"
   ]
  },
  {
   "cell_type": "markdown",
   "metadata": {},
   "source": [
    "Use the model"
   ]
  },
  {
   "cell_type": "code",
   "execution_count": 19,
   "metadata": {},
   "outputs": [
    {
     "name": "stdout",
     "output_type": "stream",
     "text": [
      "0\n",
      "0\n",
      "0\n",
      "0\n"
     ]
    }
   ],
   "source": [
    "print(format(my_xor(0,0, model3)))\n",
    "print(format(my_xor(0,1, model3)))\n",
    "print(format(my_xor(1,0, model3)))\n",
    "print(format(my_xor(1,1, model3)))"
   ]
  },
  {
   "cell_type": "markdown",
   "metadata": {},
   "source": [
    "## Model 4"
   ]
  },
  {
   "cell_type": "markdown",
   "metadata": {},
   "source": [
    "Finally we change the linear activation of the hidden layer to a relu activation, define and train the neural network model:"
   ]
  },
  {
   "cell_type": "code",
   "execution_count": 20,
   "metadata": {
    "scrolled": true
   },
   "outputs": [
    {
     "name": "stdout",
     "output_type": "stream",
     "text": [
      "Model: \"sequential_3\"\n",
      "_________________________________________________________________\n",
      "Layer (type)                 Output Shape              Param #   \n",
      "=================================================================\n",
      "dense_4 (Dense)              (None, 32)                96        \n",
      "_________________________________________________________________\n",
      "dense_5 (Dense)              (None, 1)                 33        \n",
      "=================================================================\n",
      "Total params: 129\n",
      "Trainable params: 129\n",
      "Non-trainable params: 0\n",
      "_________________________________________________________________\n",
      "None\n"
     ]
    }
   ],
   "source": [
    "# Define the model\n",
    "model = Sequential()\n",
    "model.add(Dense(32, input_dim=2, activation='relu'))\n",
    "model.add(Dense(1, activation='sigmoid'))\n",
    "\n",
    "# Compile the model\n",
    "model.compile(loss='mean_squared_error',\n",
    "              optimizer='adam',\n",
    "              metrics=['binary_accuracy','mean_squared_error'])\n",
    "\n",
    "print(model.summary())"
   ]
  },
  {
   "cell_type": "code",
   "execution_count": 21,
   "metadata": {},
   "outputs": [
    {
     "data": {
      "text/plain": [
       "[]"
      ]
     },
     "execution_count": 21,
     "metadata": {},
     "output_type": "execute_result"
    },
    {
     "data": {
      "image/png": "[encoded data removed]",
      "text/plain": [
       "<Figure size 640x480 with 1 Axes>"
      ]
     },
     "metadata": {},
     "output_type": "display_data"
    }
   ],
   "source": [
    "# Train the model\n",
    "history = model.fit(X, Y, epochs=1000, verbose=0)\n",
    "\n",
    "plt.plot(history.history['mean_squared_error'])\n",
    "plt.plot(history.history['binary_accuracy'])\n",
    "plt.ylabel('mean squared error / binary accuracy')\n",
    "plt.xlabel('epoch')\n",
    "plt.plot()"
   ]
  },
  {
   "cell_type": "markdown",
   "metadata": {},
   "source": [
    "Evaluate the model:"
   ]
  },
  {
   "cell_type": "code",
   "execution_count": 22,
   "metadata": {},
   "outputs": [
    {
     "name": "stdout",
     "output_type": "stream",
     "text": [
      "Mean squared error: 0.01\n",
      "Binary accuracy: 1.00\n"
     ]
    }
   ],
   "source": [
    "preds = model.predict(X)\n",
    "mse = mean_squared_error(preds, Y)\n",
    "print(\"Mean squared error: {0:.2f}\".format(mse))\n",
    "acc = accuracy_score(preds.round(), Y)\n",
    "print(\"Binary accuracy: {0:.2f}\".format(acc))"
   ]
  },
  {
   "cell_type": "code",
   "execution_count": 23,
   "metadata": {},
   "outputs": [
    {
     "data": {
      "text/plain": [
       "array([[0.10768834],\n",
       "       [0.9147122 ],\n",
       "       [0.9154642 ],\n",
       "       [0.08423236]], dtype=float32)"
      ]
     },
     "execution_count": 23,
     "metadata": {},
     "output_type": "execute_result"
    }
   ],
   "source": [
    "preds"
   ]
  },
  {
   "cell_type": "markdown",
   "metadata": {},
   "source": [
    "Use the model"
   ]
  },
  {
   "cell_type": "code",
   "execution_count": 24,
   "metadata": {},
   "outputs": [
    {
     "name": "stdout",
     "output_type": "stream",
     "text": [
      "0\n",
      "1\n",
      "1\n",
      "0\n"
     ]
    }
   ],
   "source": [
    "print(format(my_xor(0,0, model)))\n",
    "print(format(my_xor(0,1, model)))\n",
    "print(format(my_xor(1,0, model)))\n",
    "print(format(my_xor(1,1, model)))"
   ]
  },
  {
   "cell_type": "code",
   "execution_count": 25,
   "metadata": {},
   "outputs": [
    {
     "data": {
      "text/plain": [
       "[<tf.Variable 'dense_4/kernel:0' shape=(2, 32) dtype=float32, numpy=\n",
       " array([[-0.4140253 , -0.66599417,  0.61608714, -0.8025244 ,  0.05717328,\n",
       "         -0.17344958,  0.13202691, -0.4168494 , -0.2136913 , -0.17266054,\n",
       "          0.05302856,  0.8652885 ,  0.04716446, -0.6160943 ,  0.04601227,\n",
       "         -0.74179184,  0.5451424 ,  0.5410907 ,  0.15234342,  0.94121903,\n",
       "         -0.03473845, -0.36214018,  0.5940952 ,  0.80241185, -0.19312467,\n",
       "         -0.21032165, -0.6954469 , -0.39906874, -0.34100628,  0.71904904,\n",
       "          0.53420806, -0.18828306],\n",
       "        [-0.22180732,  0.66597694, -0.61595464,  0.80298597, -0.37248346,\n",
       "         -0.24839139,  0.5864417 , -0.34382787, -0.1041829 , -0.1038585 ,\n",
       "         -0.34521604, -0.8650967 , -0.10190623,  0.6162172 ,  0.3373461 ,\n",
       "          0.74181074, -0.5451396 , -0.541055  ,  0.16021958, -0.9411389 ,\n",
       "         -0.01800102, -0.2478241 ,  0.57978076, -0.80235595,  0.27068588,\n",
       "         -0.11096957,  0.69538635, -0.32768065, -0.3070084 , -0.7189413 ,\n",
       "         -0.15924634, -0.23299202]], dtype=float32)>,\n",
       " <tf.Variable 'dense_4/bias:0' shape=(32,) dtype=float32, numpy=\n",
       " array([ 0.0000000e+00,  2.1042768e-05,  4.8506441e-05, -3.9517143e-04,\n",
       "        -7.6569103e-02,  0.0000000e+00, -1.6181377e-05,  0.0000000e+00,\n",
       "         0.0000000e+00,  0.0000000e+00, -6.9844127e-02, -2.3888737e-05,\n",
       "         7.4297839e-01, -3.4113262e-05,  7.8659134e-05, -2.3638000e-05,\n",
       "        -7.8913188e-05, -1.7823852e-05, -1.4889215e-05, -4.3413856e-05,\n",
       "         0.0000000e+00,  0.0000000e+00, -5.7984596e-01, -2.7993312e-05,\n",
       "         3.0958557e-01,  0.0000000e+00,  1.9824995e-05,  0.0000000e+00,\n",
       "         0.0000000e+00, -1.1658847e-04,  4.1840172e-01,  0.0000000e+00],\n",
       "       dtype=float32)>,\n",
       " <tf.Variable 'dense_5/kernel:0' shape=(32, 1) dtype=float32, numpy=\n",
       " array([[-0.05557242],\n",
       "        [ 1.1071742 ],\n",
       "        [ 1.0504134 ],\n",
       "        [ 1.1700121 ],\n",
       "        [-0.2947909 ],\n",
       "        [-0.30320293],\n",
       "        [ 0.4184058 ],\n",
       "        [ 0.3148721 ],\n",
       "        [ 0.240161  ],\n",
       "        [-0.33637422],\n",
       "        [-0.06424316],\n",
       "        [ 0.7938192 ],\n",
       "        [-1.3505261 ],\n",
       "        [ 1.0722371 ],\n",
       "        [ 0.40223458],\n",
       "        [ 1.120353  ],\n",
       "        [ 1.1687618 ],\n",
       "        [ 1.2196769 ],\n",
       "        [ 0.10412335],\n",
       "        [ 0.71956235],\n",
       "        [-0.05288276],\n",
       "        [ 0.18919039],\n",
       "        [-0.9372164 ],\n",
       "        [ 1.1077539 ],\n",
       "        [-0.19969821],\n",
       "        [-0.25593567],\n",
       "        [ 1.0452214 ],\n",
       "        [-0.29547274],\n",
       "        [-0.26802847],\n",
       "        [ 0.8634239 ],\n",
       "        [-0.6964678 ],\n",
       "        [-0.15184006]], dtype=float32)>,\n",
       " <tf.Variable 'dense_5/bias:0' shape=(1,) dtype=float32, numpy=array([-0.75806206], dtype=float32)>]"
      ]
     },
     "execution_count": 25,
     "metadata": {},
     "output_type": "execute_result"
    }
   ],
   "source": [
    "model.trainable_weights"
   ]
  },
  {
   "cell_type": "code",
   "execution_count": null,
   "metadata": {},
   "outputs": [],
   "source": []
  }
 ],
 "metadata": {
  "kernelspec": {
   "display_name": "Python 3 (ipykernel)",
   "language": "python",
   "name": "python3"
  },
  "language_info": {
   "codemirror_mode": {
    "name": "ipython",
    "version": 3
   },
   "file_extension": ".py",
   "mimetype": "text/x-python",
   "name": "python",
   "nbconvert_exporter": "python",
   "pygments_lexer": "ipython3",
   "version": "3.7.4"
  }
 },
 "nbformat": 4,
 "nbformat_minor": 2
}
