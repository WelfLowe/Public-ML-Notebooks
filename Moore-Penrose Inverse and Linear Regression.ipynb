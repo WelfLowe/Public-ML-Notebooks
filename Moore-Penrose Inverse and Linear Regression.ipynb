{
 "cells": [
  {
   "cell_type": "markdown",
   "metadata": {},
   "source": [
    "# Moore-Penrose Inverse and Linear Regression"
   ]
  },
  {
   "cell_type": "markdown",
   "metadata": {},
   "source": [
    "Solving a linear equation:\n",
    "\\begin{align}\n",
    "Ax&=b\\\\\n",
    "A^{-1}Ax&=A^{-1}b\\\\\n",
    "x&=A^{-1}b\n",
    "\\end{align}\n",
    "Works if $A$ is singular/invertible.\n",
    "\n",
    "The Moore-Penrose inverse (pseudo-inverse or generalised inverse) provides an approximation of the inverse of a matrix if the inverse is not available.\n",
    "\\begin{align}\n",
    "Ax&=b\\\\\n",
    "A^{T}Ax&=A^{T}b\\\\\n",
    "x&=(A^{T}A)^{-1}A^{T}b\n",
    "\\end{align}\n",
    "Here $A^+=(A^{T}A)^{-1}A^{T}$ is the Moore-Penrose inverse."
   ]
  },
  {
   "cell_type": "markdown",
   "metadata": {},
   "source": [
    "### Test it on some data"
   ]
  },
  {
   "cell_type": "markdown",
   "metadata": {},
   "source": [
    "Create $N=100$ somewhat correlated data points in $\\mathbb{R}^3$."
   ]
  },
  {
   "cell_type": "code",
   "execution_count": 1,
   "metadata": {},
   "outputs": [
    {
     "name": "stdout",
     "output_type": "stream",
     "text": [
      "Cov =\n",
      "    2.0000    1.5000    2.0000\n",
      "    1.5000    4.0000    3.0000\n",
      "    2.0000    3.0000    3.0000\n",
      "N =\n",
      "   100\n",
      "Cor =\n",
      "    1.0000    0.6253    0.8879\n",
      "    0.6253    1.0000    0.8658\n",
      "    0.8879    0.8658    1.0000\n",
      "\n"
     ]
    }
   ],
   "source": [
    "format compact % For compact printing of results\n",
    "mu = [2 3 4];\n",
    "Cov = [2 1.5 2; 1.5 4 3; 2 3 3]\n",
    "rng('default')  % For reproducibility\n",
    "N=100\n",
    "R = mvnrnd(mu,Cov,N);\n",
    "Cor = corrcoef(R)"
   ]
  },
  {
   "cell_type": "markdown",
   "metadata": {},
   "source": [
    "Plot the data."
   ]
  },
  {
   "cell_type": "code",
   "execution_count": 2,
   "metadata": {},
   "outputs": [
    {
     "name": "stdout",
     "output_type": "stream",
     "text": [
      "\n"
     ]
    },
    {
     "data": {
      "image/png": "[encoded data removed]",
      "text/plain": [
       "<IPython.core.display.Image object>"
      ]
     },
     "metadata": {},
     "output_type": "display_data"
    }
   ],
   "source": [
    "plot3(R(:,1),R(:,2),R(:,3),'+');"
   ]
  },
  {
   "cell_type": "markdown",
   "metadata": {},
   "source": [
    "Get $x,y$, the first two columns of the data. It is an $N\\times 2$ matrix."
   ]
  },
  {
   "cell_type": "code",
   "execution_count": 3,
   "metadata": {},
   "outputs": [
    {
     "name": "stdout",
     "output_type": "stream",
     "text": [
      "\n"
     ]
    }
   ],
   "source": [
    "data(:,1) = R(:,1)-mean(R(:,1));\n",
    "data(:,2) = R(:,2)-mean(R(:,2));\n",
    "%data"
   ]
  },
  {
   "cell_type": "markdown",
   "metadata": {},
   "source": [
    "Compute the Moore-Penrose inverse of that matrix."
   ]
  },
  {
   "cell_type": "code",
   "execution_count": 4,
   "metadata": {},
   "outputs": [
    {
     "name": "stdout",
     "output_type": "stream",
     "text": [
      "\n"
     ]
    }
   ],
   "source": [
    "data_inv = pinv(data);"
   ]
  },
  {
   "cell_type": "markdown",
   "metadata": {},
   "source": [
    "Resolve for the parameters (minimizing RSS) by multiplying the Moore-Penrose inverse with $z$, the third column of the data. "
   ]
  },
  {
   "cell_type": "code",
   "execution_count": 5,
   "metadata": {},
   "outputs": [
    {
     "name": "stdout",
     "output_type": "stream",
     "text": [
      "param =\n",
      "    0.6913\n",
      "    0.4678\n",
      "\n"
     ]
    }
   ],
   "source": [
    "param = data_inv*(R(:,3)-mean(R(:,3)))"
   ]
  },
  {
   "cell_type": "markdown",
   "metadata": {},
   "source": [
    "Plot the surface (slope defined by the parameters) together with the original data."
   ]
  },
  {
   "cell_type": "code",
   "execution_count": 6,
   "metadata": {},
   "outputs": [
    {
     "name": "stdout",
     "output_type": "stream",
     "text": [
      "\n"
     ]
    },
    {
     "data": {
      "image/png": "[encoded data removed]",
      "text/plain": [
       "<IPython.core.display.Image object>"
      ]
     },
     "metadata": {},
     "output_type": "display_data"
    }
   ],
   "source": [
    "[X,Y] = meshgrid(-2:10,-2:10);\n",
    "Z = param(1)*X+param(2)*Y;\n",
    "plot3(R(:,1),R(:,2),R(:,3),'+r');\n",
    "hold on;\n",
    "surf(X,Y,Z,'FaceAlpha',0.3,'FaceColor',[0.1, 0.5, 0.9])"
   ]
  },
  {
   "cell_type": "markdown",
   "metadata": {},
   "source": [
    "## Moore-Penrose inverse and SVD"
   ]
  },
  {
   "cell_type": "markdown",
   "metadata": {},
   "source": [
    "\\begin{align}\n",
    "    𝐴^+ &=(𝐴^T𝐴)^{-1}𝐴^T\\\\\n",
    "       &=(𝑉Σ𝑈^T𝑈Σ𝑉^T)^{-1}𝑉Σ𝑈^T\\\\\n",
    "       &=(𝑉Σ^2𝑉^T)^{-1}𝑉Σ𝑈^T\\\\\n",
    "       &=(𝑉^T)^{-1}Σ^{−2}𝑉^{-1}𝑉Σ𝑈^T\\\\\n",
    "       &=𝑉Σ^{−2}Σ𝑈^T\\\\\n",
    "       &=𝑉Σ^{-1}𝑈^T\n",
    "\\end{align}"
   ]
  },
  {
   "cell_type": "markdown",
   "metadata": {},
   "source": [
    "If $Σ$ is not singular/invertible use $Σ^{+}$ instead of $Σ^{-1}$."
   ]
  },
  {
   "cell_type": "markdown",
   "metadata": {},
   "source": [
    "Single Value decomposition of the data matrix into $U,\\Sigma,V$. Check if we can reproduce the original data."
   ]
  },
  {
   "cell_type": "code",
   "execution_count": 27,
   "metadata": {},
   "outputs": [
    {
     "name": "stdout",
     "output_type": "stream",
     "text": [
      "ans =\n",
      "  logical\n",
      "   1\n",
      "\n"
     ]
    }
   ],
   "source": [
    "[U,S,V] = svd(data);\n",
    "data2 = U*S*transpose(V);\n",
    "% check equality of matrices up to rounding errors\n",
    "logic_matrix = abs(data-data2) < 1e4*eps(min(abs(data),abs(data2)));\n",
    "isequal(logic_matrix, ones(N,2))"
   ]
  },
  {
   "cell_type": "markdown",
   "metadata": {},
   "source": [
    "Calculate the Moore-Penrose inverse from $U,\\Sigma,V$."
   ]
  },
  {
   "cell_type": "code",
   "execution_count": 24,
   "metadata": {},
   "outputs": [
    {
     "name": "stdout",
     "output_type": "stream",
     "text": [
      "\n"
     ]
    }
   ],
   "source": [
    "Splus = zeros(N,2);\n",
    "Splus(1,1)=1/S(1,1);\n",
    "Splus(2,2)=1/S(2,2);\n",
    "data_pinv = transpose(U*Splus*transpose(V));"
   ]
  },
  {
   "cell_type": "markdown",
   "metadata": {},
   "source": [
    "Check if it is correct."
   ]
  },
  {
   "cell_type": "code",
   "execution_count": 25,
   "metadata": {},
   "outputs": [
    {
     "name": "stdout",
     "output_type": "stream",
     "text": [
      "check_pinv =\n",
      "    1.0000    0.0000\n",
      "   -0.0000    1.0000\n",
      "param2 =\n",
      "    0.6913\n",
      "    0.4678\n",
      "\n"
     ]
    }
   ],
   "source": [
    "check_pinv = data_pinv*data\n",
    "param2 = data_pinv*(R(:,3)-mean(R(:,3)))"
   ]
  },
  {
   "cell_type": "code",
   "execution_count": null,
   "metadata": {},
   "outputs": [],
   "source": []
  }
 ],
 "metadata": {
  "kernelspec": {
   "display_name": "Matlab",
   "language": "matlab",
   "name": "matlab"
  },
  "language_info": {
   "codemirror_mode": "octave",
   "file_extension": ".m",
   "help_links": [
    {
     "text": "MetaKernel Magics",
     "url": "https://metakernel.readthedocs.io/en/latest/source/README.html"
    }
   ],
   "mimetype": "text/x-octave",
   "name": "matlab",
   "version": "0.16.7"
  }
 },
 "nbformat": 4,
 "nbformat_minor": 2
}
